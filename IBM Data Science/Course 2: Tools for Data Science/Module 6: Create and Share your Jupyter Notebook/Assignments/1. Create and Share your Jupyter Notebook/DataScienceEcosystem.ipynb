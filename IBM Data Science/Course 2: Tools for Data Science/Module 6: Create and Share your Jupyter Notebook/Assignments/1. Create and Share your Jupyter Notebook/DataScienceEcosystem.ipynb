{
 "cells": [
  {
   "cell_type": "markdown",
   "id": "bc5f93e9-00da-4737-ba59-6d1c66c839ea",
   "metadata": {},
   "source": [
    "# Data Science Tools and Ecosystem"
   ]
  },
  {
   "cell_type": "markdown",
   "id": "07cab0a7-4e04-4d7b-be63-9cad673952a0",
   "metadata": {
    "jp-MarkdownHeadingCollapsed": true
   },
   "source": [
    "In this notebook, Data Science Tools and Ecosystem are summarized."
   ]
  },
  {
   "cell_type": "markdown",
   "id": "ddaa2271-c31d-433c-9fb3-74c4982ac987",
   "metadata": {},
   "source": [
    "**Objectives:**\n",
    "+ List popular langauges for Data Science\n",
    "+ Packages, APIs, Datasets, and Models\n",
    "+ Jupyter Notebooks and JupyterLab\n",
    "+ RStudio & GitHub"
   ]
  },
  {
   "cell_type": "markdown",
   "id": "65186b34-31f3-4512-90db-9cd752979568",
   "metadata": {},
   "source": [
    "Some of the popular languages that Data Scientists use are:\n",
    "1. Python\n",
    "2. R\n",
    "3. SQL"
   ]
  },
  {
   "cell_type": "markdown",
   "id": "77d36003-1012-45d0-acef-3421d538031f",
   "metadata": {},
   "source": [
    "Some of the commonly used libraries used by Data Scientists include:\n",
    "1. ggplot\n",
    "2. pandas\n",
    "3. MatPlotlib\n",
    "4. Plotly\n",
    "5. Lattice"
   ]
  },
  {
   "cell_type": "markdown",
   "id": "18307e7e-a76a-431a-9783-977f7f9083c5",
   "metadata": {},
   "source": [
    "|Data Science Tools|\n",
    "|-|\n",
    "|RStudio|\n",
    "|Jupyter Notebook|\n",
    "|IBM Watson Studio|"
   ]
  },
  {
   "cell_type": "markdown",
   "id": "e7d6161c-75f9-41b4-ad80-2bfcf78e0810",
   "metadata": {},
   "source": [
    "### Below are a few examples of evaluating arithmetic expressions in Python"
   ]
  },
  {
   "cell_type": "code",
   "execution_count": 1,
   "id": "2e2b1b7d-71da-4587-9213-6e9d42f65278",
   "metadata": {},
   "outputs": [
    {
     "data": {
      "text/plain": [
       "17"
      ]
     },
     "execution_count": 1,
     "metadata": {},
     "output_type": "execute_result"
    }
   ],
   "source": [
    "# This a simple arithmetic expression to multiply then add integers\n",
    "(3*4)+5"
   ]
  },
  {
   "cell_type": "code",
   "execution_count": 4,
   "id": "e6c6a2d1-5dbb-4ad4-9f82-4baf0fb65664",
   "metadata": {},
   "outputs": [
    {
     "data": {
      "text/plain": [
       "3.3333333333333335"
      ]
     },
     "execution_count": 4,
     "metadata": {},
     "output_type": "execute_result"
    }
   ],
   "source": [
    "# This will convert 200 minutes to hours by dividing by 60\n",
    "200/60"
   ]
  },
  {
   "cell_type": "markdown",
   "id": "9c14fe1f-5add-4463-9d57-bbec1aa075e9",
   "metadata": {},
   "source": [
    "## Author\n",
    "Yatin Bhatia"
   ]
  },
  {
   "cell_type": "code",
   "execution_count": null,
   "id": "491093f4-a97b-45bd-add8-b90abeab1789",
   "metadata": {},
   "outputs": [],
   "source": []
  }
 ],
 "metadata": {
  "kernelspec": {
   "display_name": "Python 3 (ipykernel)",
   "language": "python",
   "name": "python3"
  },
  "language_info": {
   "codemirror_mode": {
    "name": "ipython",
    "version": 3
   },
   "file_extension": ".py",
   "mimetype": "text/x-python",
   "name": "python",
   "nbconvert_exporter": "python",
   "pygments_lexer": "ipython3",
   "version": "3.10.18"
  }
 },
 "nbformat": 4,
 "nbformat_minor": 5
}
